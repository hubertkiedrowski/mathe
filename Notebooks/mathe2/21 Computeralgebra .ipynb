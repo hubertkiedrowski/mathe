{
 "cells": [
  {
   "cell_type": "code",
   "execution_count": 2,
   "id": "fb080dd7-d3ce-44c6-9911-2a1bee2c1bff",
   "metadata": {},
   "outputs": [],
   "source": [
    "from sympy import *\n",
    "from math import log,ceil\n",
    "from random import randrange\n",
    "from sympy.ntheory.modular import crt\n"
   ]
  },
  {
   "cell_type": "code",
   "execution_count": 8,
   "id": "c46a487f",
   "metadata": {},
   "outputs": [
    {
     "data": {
      "text/latex": [
       "$\\displaystyle 5.65685424949238$"
      ],
      "text/plain": [
       "5.65685424949238"
      ]
     },
     "execution_count": 8,
     "metadata": {},
     "output_type": "execute_result"
    }
   ],
   "source": [
    "sqrt(simplify(64/2))"
   ]
  },
  {
   "cell_type": "code",
   "execution_count": 10,
   "id": "852cbeb0",
   "metadata": {},
   "outputs": [
    {
     "data": {
      "text/latex": [
       "$\\displaystyle 0.7745966692414834$"
      ],
      "text/plain": [
       "0.77459666924148340"
      ]
     },
     "execution_count": 10,
     "metadata": {},
     "output_type": "execute_result"
    }
   ],
   "source": [
    "N(sqrt(3/5),17)"
   ]
  },
  {
   "cell_type": "code",
   "execution_count": 13,
   "id": "8b3411a2",
   "metadata": {},
   "outputs": [
    {
     "data": {
      "text/plain": [
       "0.0"
      ]
     },
     "execution_count": 13,
     "metadata": {},
     "output_type": "execute_result"
    }
   ],
   "source": [
    "pow(100,1000000)/7"
   ]
  },
  {
   "cell_type": "code",
   "execution_count": 27,
   "id": "274e5c79",
   "metadata": {},
   "outputs": [
    {
     "ename": "OverflowError",
     "evalue": "integer division result too large for a float",
     "output_type": "error",
     "traceback": [
      "\u001b[0;31m---------------------------------------------------------------------------\u001b[0m",
      "\u001b[0;31mOverflowError\u001b[0m                             Traceback (most recent call last)",
      "Cell \u001b[0;32mIn[27], line 1\u001b[0m\n\u001b[0;32m----> 1\u001b[0m N (\u001b[39m10\u001b[39;49m\u001b[39m*\u001b[39;49m\u001b[39m*\u001b[39;49m\u001b[39m1000000\u001b[39;49m\u001b[39m/\u001b[39;49m\u001b[39m7\u001b[39;49m,\u001b[39m4\u001b[39m)\n",
      "\u001b[0;31mOverflowError\u001b[0m: integer division result too large for a float"
     ]
    }
   ],
   "source": [
    "\n",
    "N (10**1000000/7,4)"
   ]
  },
  {
   "cell_type": "code",
   "execution_count": 29,
   "id": "1413062e",
   "metadata": {},
   "outputs": [
    {
     "ename": "TypeError",
     "evalue": "'Symbol' object cannot be interpreted as an integer",
     "output_type": "error",
     "traceback": [
      "\u001b[0;31m---------------------------------------------------------------------------\u001b[0m",
      "\u001b[0;31mTypeError\u001b[0m                                 Traceback (most recent call last)",
      "Cell \u001b[0;32mIn[29], line 4\u001b[0m\n\u001b[1;32m      1\u001b[0m \u001b[39mfrom\u001b[39;00m \u001b[39msympy\u001b[39;00m \u001b[39mimport\u001b[39;00m \u001b[39m*\u001b[39m\n\u001b[1;32m      2\u001b[0m n \u001b[39m=\u001b[39m symbols(\u001b[39m\"\u001b[39m\u001b[39mn\u001b[39m\u001b[39m\"\u001b[39m)\n\u001b[0;32m----> 4\u001b[0m ((n\u001b[39m*\u001b[39m\u001b[39m*\u001b[39m\u001b[39m2\u001b[39m)\u001b[39m+\u001b[39m\u001b[39m2\u001b[39m)\u001b[39m-\u001b[39mSum(\u001b[39m4\u001b[39m\u001b[39m*\u001b[39mx\u001b[39m*\u001b[39m\u001b[39m*\u001b[39m\u001b[39m3\u001b[39m \u001b[39mfor\u001b[39;00m x \u001b[39min\u001b[39;00m \u001b[39mrange\u001b[39;49m(\u001b[39m1\u001b[39;49m,n))\n",
      "\u001b[0;31mTypeError\u001b[0m: 'Symbol' object cannot be interpreted as an integer"
     ]
    }
   ],
   "source": [
    "from sympy import *\n",
    "n = symbols(\"n\")\n",
    "\n",
    "((n**2)+2)-Sum(4*x**3 for x in range(1,n))"
   ]
  },
  {
   "cell_type": "code",
   "execution_count": null,
   "id": "b63674d2",
   "metadata": {},
   "outputs": [],
   "source": []
  }
 ],
 "metadata": {
  "kernelspec": {
   "display_name": "Python 3 (ipykernel)",
   "language": "python",
   "name": "python3"
  },
  "language_info": {
   "codemirror_mode": {
    "name": "ipython",
    "version": 3
   },
   "file_extension": ".py",
   "mimetype": "text/x-python",
   "name": "python",
   "nbconvert_exporter": "python",
   "pygments_lexer": "ipython3",
   "version": "3.11.2"
  }
 },
 "nbformat": 4,
 "nbformat_minor": 5
}
