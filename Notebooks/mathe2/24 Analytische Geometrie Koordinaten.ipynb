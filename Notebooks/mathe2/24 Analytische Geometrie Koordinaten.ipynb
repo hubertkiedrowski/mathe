{
 "cells": [
  {
   "cell_type": "code",
   "execution_count": 1,
   "id": "3287f8f3-d39f-4f37-9106-357a06e5bde3",
   "metadata": {},
   "outputs": [],
   "source": [
    "from sympy import gcdex,isprime,gcd,primepi,prime,mod_inverse\n",
    "from math import *\n",
    "from random import randrange\n",
    "from sympy.ntheory.modular import crt\n"
   ]
  },
  {
   "cell_type": "code",
   "execution_count": 7,
   "id": "528f3258",
   "metadata": {},
   "outputs": [
    {
     "data": {
      "text/plain": [
       "2.0024598880863933"
      ]
     },
     "execution_count": 7,
     "metadata": {},
     "output_type": "execute_result"
    }
   ],
   "source": [
    "3.61*sin(0.588)"
   ]
  },
  {
   "cell_type": "code",
   "execution_count": 4,
   "id": "cad720d8",
   "metadata": {},
   "outputs": [
    {
     "name": "stdout",
     "output_type": "stream",
     "text": [
      "Die kartesischen Koordinaten des Punktes A sind:\n",
      "x = 3.0037067760693668\n",
      "y = 2.0024598880863933\n"
     ]
    }
   ],
   "source": [
    "r = 3.61\n",
    "phi = 0.588\n",
    "\n",
    "x = r * cos(phi)\n",
    "y = r * sin(phi)\n",
    "\n",
    "print(\"Die kartesischen Koordinaten des Punktes A sind:\")\n",
    "print(\"x =\", x)\n",
    "print(\"y =\", y)"
   ]
  },
  {
   "cell_type": "code",
   "execution_count": 17,
   "id": "5bcee3b8",
   "metadata": {},
   "outputs": [
    {
     "data": {
      "text/plain": [
       "1.0785347426775833"
      ]
     },
     "execution_count": 17,
     "metadata": {},
     "output_type": "execute_result"
    }
   ],
   "source": [
    "from math import acos, asin ,atan2, sin ,radians,degrees ,tan,sqrt\n",
    "#sin(68) = x/1 *x / sin..\n",
    "x = 1/sin(radians(68))\n",
    "x\n"
   ]
  },
  {
   "cell_type": "code",
   "execution_count": 12,
   "id": "124ba459",
   "metadata": {},
   "outputs": [
    {
     "data": {
      "text/plain": [
       "42.85034953645918"
      ]
     },
     "execution_count": 12,
     "metadata": {},
     "output_type": "execute_result"
    }
   ],
   "source": [
    "degrees( atan2(1,1.078))"
   ]
  },
  {
   "cell_type": "code",
   "execution_count": 80,
   "id": "ac00723e",
   "metadata": {},
   "outputs": [
    {
     "name": "stdout",
     "output_type": "stream",
     "text": [
      "\u001b[0;31mSignature:\u001b[0m \u001b[0matan2\u001b[0m\u001b[0;34m(\u001b[0m\u001b[0my\u001b[0m\u001b[0;34m,\u001b[0m \u001b[0mx\u001b[0m\u001b[0;34m,\u001b[0m \u001b[0;34m/\u001b[0m\u001b[0;34m)\u001b[0m\u001b[0;34m\u001b[0m\u001b[0;34m\u001b[0m\u001b[0m\n",
      "\u001b[0;31mDocstring:\u001b[0m\n",
      "Return the arc tangent (measured in radians) of y/x.\n",
      "\n",
      "Unlike atan(y/x), the signs of both x and y are considered.\n",
      "\u001b[0;31mType:\u001b[0m      builtin_function_or_method"
     ]
    }
   ],
   "source": [
    "?atan2\n"
   ]
  },
  {
   "cell_type": "code",
   "execution_count": 18,
   "id": "547e8846",
   "metadata": {},
   "outputs": [
    {
     "data": {
      "text/plain": [
       "4.716990566028302"
      ]
     },
     "execution_count": 18,
     "metadata": {},
     "output_type": "execute_result"
    }
   ],
   "source": [
    "sqrt(2.5**2 +4 ** 2)\n"
   ]
  },
  {
   "cell_type": "code",
   "execution_count": 23,
   "id": "5a356618",
   "metadata": {},
   "outputs": [
    {
     "data": {
      "text/plain": [
       "31.749714313727363"
      ]
     },
     "execution_count": 23,
     "metadata": {},
     "output_type": "execute_result"
    }
   ],
   "source": [
    "degrees( atan2(2.5,4.04))"
   ]
  },
  {
   "cell_type": "code",
   "execution_count": 24,
   "id": "2a8c869e",
   "metadata": {},
   "outputs": [
    {
     "data": {
      "text/plain": [
       "0.0"
      ]
     },
     "execution_count": 24,
     "metadata": {},
     "output_type": "execute_result"
    }
   ],
   "source": [
    "sqrt(1**2 - 1**2)"
   ]
  },
  {
   "cell_type": "code",
   "execution_count": 27,
   "id": "a0ddb457",
   "metadata": {},
   "outputs": [],
   "source": [
    "def polar(x,y) :\n",
    "    return sqrt(x*x+y*y) ,atan2(x,y)"
   ]
  },
  {
   "cell_type": "code",
   "execution_count": 29,
   "id": "0659400a",
   "metadata": {},
   "outputs": [
    {
     "data": {
      "text/plain": [
       "(1.9999999999999998, -1.0471975511965976)"
      ]
     },
     "execution_count": 29,
     "metadata": {},
     "output_type": "execute_result"
    }
   ],
   "source": [
    "polar(-sqrt(3),1)"
   ]
  },
  {
   "cell_type": "code",
   "execution_count": 32,
   "id": "15ec1672",
   "metadata": {},
   "outputs": [
    {
     "data": {
      "text/plain": [
       "9.16515138991168"
      ]
     },
     "execution_count": 32,
     "metadata": {},
     "output_type": "execute_result"
    }
   ],
   "source": [
    "sqrt((10**2) -(4**2) )"
   ]
  },
  {
   "cell_type": "code",
   "execution_count": 36,
   "id": "9a665da2",
   "metadata": {},
   "outputs": [
    {
     "data": {
      "text/plain": [
       "-8.82522608121828"
      ]
     },
     "execution_count": 36,
     "metadata": {},
     "output_type": "execute_result"
    }
   ],
   "source": [
    "x = sqrt(81/26)\n",
    "(-5*x)"
   ]
  },
  {
   "cell_type": "code",
   "execution_count": 37,
   "id": "8cb152c5",
   "metadata": {},
   "outputs": [
    {
     "data": {
      "text/plain": [
       "(1.7650452162436563, -8.82522608121828)"
      ]
     },
     "execution_count": 37,
     "metadata": {},
     "output_type": "execute_result"
    }
   ],
   "source": [
    "(sqrt(81/26), -5 * sqrt(81/26))"
   ]
  },
  {
   "cell_type": "code",
   "execution_count": 40,
   "id": "2c6a28c9",
   "metadata": {},
   "outputs": [
    {
     "data": {
      "text/plain": [
       "8.513422179807298"
      ]
     },
     "execution_count": 40,
     "metadata": {},
     "output_type": "execute_result"
    }
   ],
   "source": [
    "8/sin(radians(70))"
   ]
  },
  {
   "cell_type": "code",
   "execution_count": 47,
   "id": "e8f7b50f",
   "metadata": {},
   "outputs": [],
   "source": [
    "c = ((2 * sin(radians( 45)))**2)/2"
   ]
  },
  {
   "cell_type": "code",
   "execution_count": 48,
   "id": "0cfd8c5c",
   "metadata": {},
   "outputs": [
    {
     "data": {
      "text/plain": [
       "0.9999999999999998"
      ]
     },
     "execution_count": 48,
     "metadata": {},
     "output_type": "execute_result"
    }
   ],
   "source": [
    "c"
   ]
  },
  {
   "cell_type": "code",
   "execution_count": 50,
   "id": "a40c8b6f",
   "metadata": {},
   "outputs": [
    {
     "data": {
      "text/plain": [
       "6.0"
      ]
     },
     "execution_count": 50,
     "metadata": {},
     "output_type": "execute_result"
    }
   ],
   "source": [
    "sqrt(10**2-8**2)"
   ]
  },
  {
   "cell_type": "code",
   "execution_count": 52,
   "id": "a6b4ef25",
   "metadata": {},
   "outputs": [
    {
     "data": {
      "text/plain": [
       "37.0"
      ]
     },
     "execution_count": 52,
     "metadata": {},
     "output_type": "execute_result"
    }
   ],
   "source": [
    "sqrt(1369)"
   ]
  },
  {
   "cell_type": "code",
   "execution_count": 54,
   "id": "a3b3ed9d",
   "metadata": {},
   "outputs": [
    {
     "data": {
      "text/plain": [
       "3.74415"
      ]
     },
     "execution_count": 54,
     "metadata": {},
     "output_type": "execute_result"
    }
   ],
   "source": [
    "(3.27 * 2.29)/2"
   ]
  },
  {
   "cell_type": "code",
   "execution_count": 78,
   "id": "91dcb4ae",
   "metadata": {},
   "outputs": [
    {
     "data": {
      "text/plain": [
       "3.9691489395492385"
      ]
     },
     "execution_count": 78,
     "metadata": {},
     "output_type": "execute_result"
    }
   ],
   "source": [
    "((4*sin(radians(35)))*3.46)/2"
   ]
  },
  {
   "cell_type": "code",
   "execution_count": 65,
   "id": "d87b64f7",
   "metadata": {},
   "outputs": [
    {
     "data": {
      "text/plain": [
       "3.8319760289766087"
      ]
     },
     "execution_count": 65,
     "metadata": {},
     "output_type": "execute_result"
    }
   ],
   "source": [
    "sqrt(4**2-4*sin(radians(35))**2)"
   ]
  },
  {
   "cell_type": "code",
   "execution_count": 66,
   "id": "aebff1ac",
   "metadata": {},
   "outputs": [
    {
     "data": {
      "text/plain": [
       "4.395862309766072"
      ]
     },
     "execution_count": 66,
     "metadata": {},
     "output_type": "execute_result"
    }
   ],
   "source": [
    "(4*sin(radians(35))*sqrt(4**2-2**2))/2"
   ]
  },
  {
   "cell_type": "code",
   "execution_count": 68,
   "metadata": {},
   "outputs": [
    {
     "data": {
      "text/plain": [
       "8"
      ]
     },
     "execution_count": 68,
     "metadata": {},
     "output_type": "execute_result"
    }
   ],
   "source": [
    "(2**2+2**2)"
   ]
  },
  {
   "cell_type": "code",
   "execution_count": 71,
   "id": "6a8018a6",
   "metadata": {},
   "outputs": [],
   "source": [
    "x = sqrt(3**2 - 1.5**2)"
   ]
  },
  {
   "cell_type": "code",
   "execution_count": 75,
   "id": "4e5889dd",
   "metadata": {},
   "outputs": [
    {
     "data": {
      "text/plain": [
       "23.382685902179844"
      ]
     },
     "execution_count": 75,
     "metadata": {},
     "output_type": "execute_result"
    }
   ],
   "source": [
    "((sqrt(3**2 - 1.5**2)) * 1.5)*6"
   ]
  },
  {
   "cell_type": "code",
   "execution_count": 76,
   "id": "57b63987",
   "metadata": {},
   "outputs": [
    {
     "data": {
      "text/plain": [
       "2209"
      ]
     },
     "execution_count": 76,
     "metadata": {},
     "output_type": "execute_result"
    }
   ],
   "source": [
    "47**2"
   ]
  },
  {
   "cell_type": "code",
   "execution_count": 79,
   "id": "a8eaeb91",
   "metadata": {},
   "outputs": [
    {
     "data": {
      "text/plain": [
       "2.598076211353316"
      ]
     },
     "execution_count": 79,
     "metadata": {},
     "output_type": "execute_result"
    }
   ],
   "source": [
    "sqrt(3**2-1.5**2)"
   ]
  },
  {
   "attachments": {},
   "cell_type": "markdown",
   "id": "ace94aba",
   "metadata": {},
   "source": [
    "additionstheoreme:\n",
    "\n",
    "sin(x + 2kπ) = sin x sowie cos(x + 2kπ) = cos x\n",
    "\n",
    "cos(x + π) = cos(x - π) = - cos x\n",
    "\n",
    "sin(x + π) = sin(x - π) = - sin x\n",
    "\n",
    "\n",
    "\n",
    "\n",
    "sin(α + β) = sin α cos β + sin β cos α\n",
    "\n",
    "sin(α − β) = sin α cos β − sin β cos α\n",
    "\n",
    "cos(α + β) = cos α cos β − sin α sin β\n",
    "\n",
    "cos(α − β) = cos α cos β + sin α sin β\n"
   ]
  },
  {
   "attachments": {},
   "cell_type": "markdown",
   "id": "3f67a6d3",
   "metadata": {},
   "source": []
  },
  {
   "cell_type": "code",
   "execution_count": 81,
   "id": "ee46496b",
   "metadata": {},
   "outputs": [],
   "source": [
    "x = 1/sin(radians(68))\n"
   ]
  },
  {
   "cell_type": "code",
   "execution_count": 84,
   "id": "d9ad29d1",
   "metadata": {},
   "outputs": [
    {
     "data": {
      "text/plain": [
       "42.836182496094736"
      ]
     },
     "execution_count": 84,
     "metadata": {},
     "output_type": "execute_result"
    }
   ],
   "source": [
    "degrees( atan2(1,x))"
   ]
  },
  {
   "cell_type": "code",
   "execution_count": 88,
   "id": "77ebeea6",
   "metadata": {},
   "outputs": [
    {
     "data": {
      "text/plain": [
       "41.23105625617661"
      ]
     },
     "execution_count": 88,
     "metadata": {},
     "output_type": "execute_result"
    }
   ],
   "source": [
    "sqrt(10**2-(-40**2) )"
   ]
  },
  {
   "cell_type": "code",
   "execution_count": 98,
   "id": "ad323e8b",
   "metadata": {},
   "outputs": [
    {
     "data": {
      "text/plain": [
       "[-10*sqrt(17)/17, 10*sqrt(17)/17]"
      ]
     },
     "execution_count": 98,
     "metadata": {},
     "output_type": "execute_result"
    }
   ],
   "source": [
    "from sympy import *\n",
    "r = 10\n",
    "x = symbols(\"x\")\n",
    "y =-4*x\n",
    "solve(r-sqrt((x**2)+(y**2)),x)"
   ]
  },
  {
   "cell_type": "code",
   "execution_count": 92,
   "id": "636f9661",
   "metadata": {},
   "outputs": [
    {
     "data": {
      "text/latex": [
       "$\\displaystyle 2.42535625036333$"
      ],
      "text/plain": [
       "2.42535625036333"
      ]
     },
     "execution_count": 92,
     "metadata": {},
     "output_type": "execute_result"
    }
   ],
   "source": [
    "(10*sqrt(17)/17).evalf()"
   ]
  },
  {
   "cell_type": "code",
   "execution_count": 94,
   "id": "03976a4d",
   "metadata": {},
   "outputs": [
    {
     "data": {
      "text/latex": [
       "$\\displaystyle -9.70142500145332$"
      ],
      "text/plain": [
       "-9.70142500145332"
      ]
     },
     "execution_count": 94,
     "metadata": {},
     "output_type": "execute_result"
    }
   ],
   "source": [
    "-4*(10*sqrt(17)/17).evalf()"
   ]
  },
  {
   "cell_type": "code",
   "execution_count": 96,
   "id": "81413e7f",
   "metadata": {},
   "outputs": [
    {
     "data": {
      "text/plain": [
       "(1.76504521624366, -8.82522608121828)"
      ]
     },
     "execution_count": 96,
     "metadata": {},
     "output_type": "execute_result"
    }
   ],
   "source": [
    "(sqrt(81/26), -5 * sqrt(81/26))"
   ]
  },
  {
   "cell_type": "code",
   "execution_count": 99,
   "id": "ef50a574",
   "metadata": {},
   "outputs": [
    {
     "data": {
      "text/plain": [
       "10"
      ]
     },
     "execution_count": 99,
     "metadata": {},
     "output_type": "execute_result"
    }
   ],
   "source": [
    "180-90-80"
   ]
  },
  {
   "cell_type": "code",
   "execution_count": 8,
   "id": "5723af85",
   "metadata": {},
   "outputs": [
    {
     "data": {
      "text/plain": [
       "1.184807753012208"
      ]
     },
     "execution_count": 8,
     "metadata": {},
     "output_type": "execute_result"
    }
   ],
   "source": [
    "from math import*\n",
    "x = (30 *cos(radians(10)))\n",
    "y = (70 *cos(radians(10)))\n",
    "(x+y+20)"
   ]
  },
  {
   "cell_type": "code",
   "execution_count": 109,
   "id": "722f1e06",
   "metadata": {},
   "outputs": [
    {
     "data": {
      "text/plain": [
       "68.93654271085457"
      ]
     },
     "execution_count": 109,
     "metadata": {},
     "output_type": "execute_result"
    }
   ],
   "source": [
    "(70 *cos(radians(10)))"
   ]
  },
  {
   "cell_type": "code",
   "execution_count": 2,
   "id": "e9cad0c0",
   "metadata": {},
   "outputs": [
    {
     "data": {
      "text/plain": [
       "1.1848049999999999"
      ]
     },
     "execution_count": 2,
     "metadata": {},
     "output_type": "execute_result"
    }
   ],
   "source": [
    "(68.9365+20+29.544)/100"
   ]
  },
  {
   "cell_type": "code",
   "execution_count": 9,
   "id": "eadd62f3",
   "metadata": {},
   "outputs": [
    {
     "name": "stdout",
     "output_type": "stream",
     "text": [
      "\u001b[0;31mSignature:\u001b[0m \u001b[0matan2\u001b[0m\u001b[0;34m(\u001b[0m\u001b[0my\u001b[0m\u001b[0;34m,\u001b[0m \u001b[0mx\u001b[0m\u001b[0;34m,\u001b[0m \u001b[0;34m/\u001b[0m\u001b[0;34m)\u001b[0m\u001b[0;34m\u001b[0m\u001b[0;34m\u001b[0m\u001b[0m\n",
      "\u001b[0;31mDocstring:\u001b[0m\n",
      "Return the arc tangent (measured in radians) of y/x.\n",
      "\n",
      "Unlike atan(y/x), the signs of both x and y are considered.\n",
      "\u001b[0;31mType:\u001b[0m      builtin_function_or_method"
     ]
    }
   ],
   "source": [
    "9**2 = x**2 +y **2\n",
    "9**2 = x**2 +(-5*x) **2\n",
    "9**2 = x**2 +(-5*x) **2\n",
    "\n"
   ]
  },
  {
   "cell_type": "code",
   "execution_count": 17,
   "id": "4fd9c2e5",
   "metadata": {},
   "outputs": [
    {
     "data": {
      "text/plain": [
       "[]"
      ]
     },
     "execution_count": 17,
     "metadata": {},
     "output_type": "execute_result"
    }
   ],
   "source": [
    "from sympy import solve,symbols\n",
    "solve((x**2 +(-5*x) **2),x)"
   ]
  },
  {
   "cell_type": "code",
   "execution_count": 2,
   "id": "546affff",
   "metadata": {},
   "outputs": [
    {
     "data": {
      "text/plain": [
       "[-9*sqrt(26)/26, 9*sqrt(26)/26]"
      ]
     },
     "execution_count": 2,
     "metadata": {},
     "output_type": "execute_result"
    }
   ],
   "source": [
    "from sympy import solve,symbols,sqrt\n",
    "r = 9\n",
    "x = symbols(\"x\")\n",
    "y = -5 *x\n",
    "solve(r-sqrt(x**2 + y**2),x)"
   ]
  },
  {
   "cell_type": "code",
   "execution_count": 4,
   "id": "42257cf2",
   "metadata": {},
   "outputs": [
    {
     "data": {
      "text/latex": [
       "$\\displaystyle -8.82522608121828$"
      ],
      "text/plain": [
       "-8.82522608121828"
      ]
     },
     "execution_count": 4,
     "metadata": {},
     "output_type": "execute_result"
    }
   ],
   "source": [
    "-5*((9*sqrt(26)/26).evalf())"
   ]
  },
  {
   "cell_type": "code",
   "execution_count": 9,
   "id": "ada7ef88",
   "metadata": {},
   "outputs": [
    {
     "name": "stdout",
     "output_type": "stream",
     "text": [
      "12 144\n",
      "13 169\n",
      "14 196\n",
      "15 225\n",
      "16 256\n",
      "17 289\n",
      "18 324\n",
      "19 361\n",
      "20 400\n",
      "21 441\n",
      "22 484\n",
      "23 529\n",
      "24 576\n",
      "25 625\n",
      "26 676\n",
      "27 729\n",
      "28 784\n",
      "29 841\n",
      "30 900\n",
      "31 961\n",
      "32 1024\n",
      "33 1089\n",
      "34 1156\n",
      "35 1225\n",
      "36 1296\n",
      "37 1369\n",
      "38 1444\n",
      "39 1521\n"
     ]
    }
   ],
   "source": [
    "for x in range(12,40):\n",
    "    print(x,x**2)"
   ]
  },
  {
   "cell_type": "code",
   "execution_count": 9,
   "id": "4ee80d6b",
   "metadata": {},
   "outputs": [
    {
     "data": {
      "text/latex": [
       "$\\displaystyle \\frac{\\pi}{3}$"
      ],
      "text/plain": [
       "pi/3"
      ]
     },
     "execution_count": 9,
     "metadata": {},
     "output_type": "execute_result"
    }
   ],
   "source": [
    "\n",
    "#348\n",
    "from sympy import *\n",
    "( atan(-sqrt(3)/(-1))) "
   ]
  },
  {
   "cell_type": "code",
   "execution_count": 8,
   "id": "26528a1e",
   "metadata": {},
   "outputs": [
    {
     "data": {
      "text/latex": [
       "$\\displaystyle \\frac{5 \\pi}{6}$"
      ],
      "text/plain": [
       "5*pi/6"
      ]
     },
     "execution_count": 8,
     "metadata": {},
     "output_type": "execute_result"
    }
   ],
   "source": [
    "#aufgabe 349\n",
    "(atan2(1,-sqrt(3)))"
   ]
  },
  {
   "cell_type": "code",
   "execution_count": 10,
   "id": "05b56dc7",
   "metadata": {},
   "outputs": [
    {
     "name": "stdout",
     "output_type": "stream",
     "text": [
      "\u001b[0;31mInit signature:\u001b[0m \u001b[0matan2\u001b[0m\u001b[0;34m(\u001b[0m\u001b[0my\u001b[0m\u001b[0;34m,\u001b[0m \u001b[0mx\u001b[0m\u001b[0;34m)\u001b[0m\u001b[0;34m\u001b[0m\u001b[0;34m\u001b[0m\u001b[0m\n",
      "\u001b[0;31mDocstring:\u001b[0m     \n",
      "The function ``atan2(y, x)`` computes `\\operatorname{atan}(y/x)` taking\n",
      "two arguments `y` and `x`.  Signs of both `y` and `x` are considered to\n",
      "determine the appropriate quadrant of `\\operatorname{atan}(y/x)`.\n",
      "The range is `(-\\pi, \\pi]`. The complete definition reads as follows:\n",
      "\n",
      ".. math::\n",
      "\n",
      "    \\operatorname{atan2}(y, x) =\n",
      "    \\begin{cases}\n",
      "      \\arctan\\left(\\frac y x\\right) & \\qquad x > 0 \\\\\n",
      "      \\arctan\\left(\\frac y x\\right) + \\pi& \\qquad y \\ge 0, x < 0 \\\\\n",
      "      \\arctan\\left(\\frac y x\\right) - \\pi& \\qquad y < 0, x < 0 \\\\\n",
      "      +\\frac{\\pi}{2} & \\qquad y > 0, x = 0 \\\\\n",
      "      -\\frac{\\pi}{2} & \\qquad y < 0, x = 0 \\\\\n",
      "      \\text{undefined} & \\qquad y = 0, x = 0\n",
      "    \\end{cases}\n",
      "\n",
      "Attention: Note the role reversal of both arguments. The `y`-coordinate\n",
      "is the first argument and the `x`-coordinate the second.\n",
      "\n",
      "If either `x` or `y` is complex:\n",
      "\n",
      ".. math::\n",
      "\n",
      "    \\operatorname{atan2}(y, x) =\n",
      "        -i\\log\\left(\\frac{x + iy}{\\sqrt{x^2 + y^2}}\\right)\n",
      "\n",
      "Examples\n",
      "========\n",
      "\n",
      "Going counter-clock wise around the origin we find the\n",
      "following angles:\n",
      "\n",
      ">>> from sympy import atan2\n",
      ">>> atan2(0, 1)\n",
      "0\n",
      ">>> atan2(1, 1)\n",
      "pi/4\n",
      ">>> atan2(1, 0)\n",
      "pi/2\n",
      ">>> atan2(1, -1)\n",
      "3*pi/4\n",
      ">>> atan2(0, -1)\n",
      "pi\n",
      ">>> atan2(-1, -1)\n",
      "-3*pi/4\n",
      ">>> atan2(-1, 0)\n",
      "-pi/2\n",
      ">>> atan2(-1, 1)\n",
      "-pi/4\n",
      "\n",
      "which are all correct. Compare this to the results of the ordinary\n",
      "`\\operatorname{atan}` function for the point `(x, y) = (-1, 1)`\n",
      "\n",
      ">>> from sympy import atan, S\n",
      ">>> atan(S(1)/-1)\n",
      "-pi/4\n",
      ">>> atan2(1, -1)\n",
      "3*pi/4\n",
      "\n",
      "where only the `\\operatorname{atan2}` function reurns what we expect.\n",
      "We can differentiate the function with respect to both arguments:\n",
      "\n",
      ">>> from sympy import diff\n",
      ">>> from sympy.abc import x, y\n",
      ">>> diff(atan2(y, x), x)\n",
      "-y/(x**2 + y**2)\n",
      "\n",
      ">>> diff(atan2(y, x), y)\n",
      "x/(x**2 + y**2)\n",
      "\n",
      "We can express the `\\operatorname{atan2}` function in terms of\n",
      "complex logarithms:\n",
      "\n",
      ">>> from sympy import log\n",
      ">>> atan2(y, x).rewrite(log)\n",
      "-I*log((x + I*y)/sqrt(x**2 + y**2))\n",
      "\n",
      "and in terms of `\\operatorname(atan)`:\n",
      "\n",
      ">>> from sympy import atan\n",
      ">>> atan2(y, x).rewrite(atan)\n",
      "Piecewise((2*atan(y/(x + sqrt(x**2 + y**2))), Ne(y, 0)), (pi, re(x) < 0), (0, Ne(x, 0)), (nan, True))\n",
      "\n",
      "but note that this form is undefined on the negative real axis.\n",
      "\n",
      "See Also\n",
      "========\n",
      "\n",
      "sin, csc, cos, sec, tan, cot\n",
      "asin, acsc, acos, asec, atan, acot\n",
      "\n",
      "References\n",
      "==========\n",
      "\n",
      ".. [1] https://en.wikipedia.org/wiki/Inverse_trigonometric_functions\n",
      ".. [2] https://en.wikipedia.org/wiki/Atan2\n",
      ".. [3] http://functions.wolfram.com/ElementaryFunctions/ArcTan2\n",
      "\u001b[0;31mFile:\u001b[0m           ~/.local/lib/python3.11/site-packages/sympy/functions/elementary/trigonometric.py\n",
      "\u001b[0;31mType:\u001b[0m           FunctionClass\n",
      "\u001b[0;31mSubclasses:\u001b[0m     "
     ]
    }
   ],
   "source": [
    "?atan2"
   ]
  },
  {
   "cell_type": "code",
   "execution_count": 11,
   "id": "a188b263",
   "metadata": {},
   "outputs": [
    {
     "name": "stdout",
     "output_type": "stream",
     "text": [
      "\u001b[0;31mInit signature:\u001b[0m \u001b[0matan\u001b[0m\u001b[0;34m(\u001b[0m\u001b[0marg\u001b[0m\u001b[0;34m)\u001b[0m\u001b[0;34m\u001b[0m\u001b[0;34m\u001b[0m\u001b[0m\n",
      "\u001b[0;31mDocstring:\u001b[0m     \n",
      "The inverse tangent function.\n",
      "\n",
      "Returns the arc tangent of x (measured in radians).\n",
      "\n",
      "Explanation\n",
      "===========\n",
      "\n",
      "``atan(x)`` will evaluate automatically in the cases\n",
      "$x \\in \\{\\infty, -\\infty, 0, 1, -1\\}$ and for some instances when the\n",
      "result is a rational multiple of $\\pi$ (see the eval class method).\n",
      "\n",
      "Examples\n",
      "========\n",
      "\n",
      ">>> from sympy import atan, oo\n",
      ">>> atan(0)\n",
      "0\n",
      ">>> atan(1)\n",
      "pi/4\n",
      ">>> atan(oo)\n",
      "pi/2\n",
      "\n",
      "See Also\n",
      "========\n",
      "\n",
      "sin, csc, cos, sec, tan, cot\n",
      "asin, acsc, acos, asec, acot, atan2\n",
      "\n",
      "References\n",
      "==========\n",
      "\n",
      ".. [1] https://en.wikipedia.org/wiki/Inverse_trigonometric_functions\n",
      ".. [2] http://dlmf.nist.gov/4.23\n",
      ".. [3] http://functions.wolfram.com/ElementaryFunctions/ArcTan\n",
      "\u001b[0;31mFile:\u001b[0m           ~/.local/lib/python3.11/site-packages/sympy/functions/elementary/trigonometric.py\n",
      "\u001b[0;31mType:\u001b[0m           FunctionClass\n",
      "\u001b[0;31mSubclasses:\u001b[0m     "
     ]
    }
   ],
   "source": [
    "?atan"
   ]
  },
  {
   "cell_type": "code",
   "execution_count": 6,
   "id": "e14790ba",
   "metadata": {},
   "outputs": [
    {
     "data": {
      "text/plain": [
       "30.186917696247164"
      ]
     },
     "execution_count": 6,
     "metadata": {},
     "output_type": "execute_result"
    }
   ],
   "source": [
    "import math\n",
    "import sympy\n",
    "x = math.sqrt(3**2+1.5**2)\n",
    "(((x*1.5))*6)"
   ]
  },
  {
   "cell_type": "code",
   "execution_count": 7,
   "id": "75953581",
   "metadata": {},
   "outputs": [
    {
     "data": {
      "text/plain": [
       "23.382685902179844"
      ]
     },
     "execution_count": 7,
     "metadata": {},
     "output_type": "execute_result"
    }
   ],
   "source": [
    "(3 * math.sqrt(3) * 3**2) / 2"
   ]
  },
  {
   "cell_type": "code",
   "execution_count": 8,
   "id": "0fd02e19",
   "metadata": {},
   "outputs": [
    {
     "name": "stdout",
     "output_type": "stream",
     "text": [
      "Object `degrees` not found.\n"
     ]
    }
   ],
   "source": [
    "\n",
    "?degrees"
   ]
  },
  {
   "cell_type": "code",
   "execution_count": null,
   "id": "9bb824cf",
   "metadata": {},
   "outputs": [],
   "source": []
  }
 ],
 "metadata": {
  "kernelspec": {
   "display_name": "Python 3 (ipykernel)",
   "language": "python",
   "name": "python3"
  },
  "language_info": {
   "codemirror_mode": {
    "name": "ipython",
    "version": 3
   },
   "file_extension": ".py",
   "mimetype": "text/x-python",
   "name": "python",
   "nbconvert_exporter": "python",
   "pygments_lexer": "ipython3",
   "version": "3.11.2"
  }
 },
 "nbformat": 4,
 "nbformat_minor": 5
}
