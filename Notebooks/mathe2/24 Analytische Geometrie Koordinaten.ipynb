{
 "cells": [
  {
   "cell_type": "code",
   "execution_count": 1,
   "id": "3287f8f3-d39f-4f37-9106-357a06e5bde3",
   "metadata": {},
   "outputs": [],
   "source": [
    "from sympy import gcdex,isprime,gcd,primepi,prime,mod_inverse\n",
    "from math import *\n",
    "from random import randrange\n",
    "from sympy.ntheory.modular import crt\n"
   ]
  },
  {
   "cell_type": "code",
   "execution_count": 7,
   "id": "528f3258",
   "metadata": {},
   "outputs": [
    {
     "data": {
      "text/plain": [
       "2.0024598880863933"
      ]
     },
     "execution_count": 7,
     "metadata": {},
     "output_type": "execute_result"
    }
   ],
   "source": [
    "3.61*sin(0.588)"
   ]
  },
  {
   "cell_type": "code",
   "execution_count": 4,
   "id": "cad720d8",
   "metadata": {},
   "outputs": [
    {
     "name": "stdout",
     "output_type": "stream",
     "text": [
      "Die kartesischen Koordinaten des Punktes A sind:\n",
      "x = 3.0037067760693668\n",
      "y = 2.0024598880863933\n"
     ]
    }
   ],
   "source": [
    "r = 3.61\n",
    "phi = 0.588\n",
    "\n",
    "x = r * cos(phi)\n",
    "y = r * sin(phi)\n",
    "\n",
    "print(\"Die kartesischen Koordinaten des Punktes A sind:\")\n",
    "print(\"x =\", x)\n",
    "print(\"y =\", y)"
   ]
  },
  {
   "cell_type": "code",
   "execution_count": null,
   "id": "5bcee3b8",
   "metadata": {},
   "outputs": [],
   "source": [
    "from math import acos, asin ,atan2\n",
    "#sin(68) = x/1 *x / sin..\n",
    "x = 1/sin(68)\n",
    "\n"
   ]
  }
 ],
 "metadata": {
  "kernelspec": {
   "display_name": "Python 3 (ipykernel)",
   "language": "python",
   "name": "python3"
  },
  "language_info": {
   "codemirror_mode": {
    "name": "ipython",
    "version": 3
   },
   "file_extension": ".py",
   "mimetype": "text/x-python",
   "name": "python",
   "nbconvert_exporter": "python",
   "pygments_lexer": "ipython3",
   "version": "3.11.2"
  }
 },
 "nbformat": 4,
 "nbformat_minor": 5
}
