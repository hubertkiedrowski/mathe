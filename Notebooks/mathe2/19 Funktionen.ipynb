{
 "cells": [
  {
   "cell_type": "code",
   "execution_count": null,
   "id": "6398c95a-2ab5-4d61-a0c2-bb24323ad4cc",
   "metadata": {},
   "outputs": [],
   "source": [
    "from sympy import gcdex, gcd, isprime, primepi, prime, divisors, primefactors, factorint, mod_inverse, factorial\n",
    "from math import log, sqrt\n",
    "from random import randrange\n",
    "from sympy.ntheory.modular import crt\n",
    "from fractions import Fraction  # (arbeiten mit Brüchen)\n",
    "# from simulate import *\n",
    "from sympy.sets.sets import *\n",
    "\n",
    "\n",
    "# Reele Zahlen           (R)           alle zahlen zusammen\n",
    "# Rationale zahlen       (Q)           alles durch brüche darstellbare\n",
    "# ganze zahlen           (Z)           -x bis x\n",
    "\n",
    "# A ∩ B    Wenn A und B zwei Mengen sind, dann ist ihre Schnittmenge definiert als eine neue Menge C, die alle Elemente enthält, die in A und B enthalten sind.\n",
    "# A ∪ B    Wenn A und B zwei Mengen sind, dann ist ihre Vereinigungsmenge definiert als eine neue Menge C, die alle Elemente enthält, die entweder in A oder in B (oder in beiden) enthalten sind\n",
    "# A ⊆ B    Wenn A und B zwei Mengen sind, dann gilt A ⊆ B, wenn jedes Element in A auch in B enthalten ist.\n",
    "# A \\ B    Wenn A und B zwei Mengen sind, dann ist A \\ B eine neue Menge, die alle Elemente enthält, die in A enthalten sind, aber nicht in B enthalten sind.\n",
    "# [A , B)  A ist mit in der Menge und alle zahlen bis B\n",
    "\n",
    "# Es gibt ungefähr n/ log n Primzahlen unterhalb von n\n",
    "# Der Wert der n-ten Primzahl ist ungefähr n ln n.\n",
    "\n",
    "\n",
    "\n",
    "# Jede dieser Eigenschaften überträgt sich auf die Verkettung, es gilt also:\n",
    "\n",
    "# Die Komposition injektiver Funktionen ist injektiv.\n",
    "# Die Komposition surjektiver Funktionen ist surjektiv.\n",
    "# Die Komposition bijektiver Funktionen ist bijektiv.\n",
    "\n",
    "# Umgekehrt gilt: Ist eine Verkettung g ∘ f \n",
    "\n",
    "# injektiv, so ist f injektiv.\n",
    "# surjektiv, so ist g surjektiv.\n",
    "# bijektiv, so ist f injektiv und g surjektiv.\n",
    "\n",
    "\n",
    "#(x, y) 7→ (x + y, x − y) injektiv\n",
    "#x+y nicht injekltiv\n",
    "\n",
    "291"
   ]
  },
  {
   "cell_type": "code",
   "execution_count": 7,
   "id": "597ddd7a",
   "metadata": {},
   "outputs": [
    {
     "data": {
      "text/plain": [
       "3574215"
      ]
     },
     "execution_count": 7,
     "metadata": {},
     "output_type": "execute_result"
    }
   ],
   "source": [
    "def f(x): return 5*x\n",
    "def g(x): return x+3\n",
    "def h(x): return f(g(x))\n",
    "\n",
    "\n",
    "h(h(h(h(h(h(h((42))))))))\n"
   ]
  },
  {
   "cell_type": "code",
   "execution_count": null,
   "id": "499083d1",
   "metadata": {},
   "outputs": [],
   "source": []
  },
  {
   "cell_type": "code",
   "execution_count": null,
   "id": "a4a07251",
   "metadata": {},
   "outputs": [],
   "source": []
  },
  {
   "cell_type": "code",
   "execution_count": null,
   "id": "1ff191e8",
   "metadata": {},
   "outputs": [],
   "source": []
  }
 ],
 "metadata": {
  "kernelspec": {
   "display_name": "Python 3 (ipykernel)",
   "language": "python",
   "name": "python3"
  },
  "language_info": {
   "codemirror_mode": {
    "name": "ipython",
    "version": 3
   },
   "file_extension": ".py",
   "mimetype": "text/x-python",
   "name": "python",
   "nbconvert_exporter": "python",
   "pygments_lexer": "ipython3",
   "version": "3.10.7"
  }
 },
 "nbformat": 4,
 "nbformat_minor": 5
}
