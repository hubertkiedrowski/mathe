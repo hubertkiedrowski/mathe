{
 "cells": [
  {
   "cell_type": "code",
   "execution_count": 2,
   "id": "82f388f9-7c3c-4e26-8cb7-662f887c41fc",
   "metadata": {},
   "outputs": [],
   "source": [
    "from sympy import *\n",
    "from math import log,ceil\n",
    "from random import randrange\n",
    "from sympy.ntheory.modular import crt\n"
   ]
  },
  {
   "cell_type": "code",
   "execution_count": 23,
   "id": "bae0fe79",
   "metadata": {},
   "outputs": [],
   "source": [
    "def restrictedCos (x):\n",
    "    return cos(x) if 0 <= x <= pi/2 else None\n",
    "def restrictedCSin (x):\n",
    "    return sin(x) if 0 <= x <= pi/4 else None\n",
    "def restrictedTan (x):\n",
    "    return tan(x) if 0 <= x <= pi/4 else None"
   ]
  },
  {
   "cell_type": "code",
   "execution_count": 24,
   "id": "2217abf0",
   "metadata": {},
   "outputs": [],
   "source": [
    "restrictedTan(2.2)"
   ]
  },
  {
   "cell_type": "code",
   "execution_count": 1,
   "id": "003f5c5c",
   "metadata": {},
   "outputs": [
    {
     "data": {
      "text/plain": [
       "4.300888156922483"
      ]
     },
     "execution_count": 1,
     "metadata": {},
     "output_type": "execute_result"
    }
   ],
   "source": [
    "from math import pi\n",
    "42 % (2*pi)"
   ]
  },
  {
   "cell_type": "code",
   "execution_count": 29,
   "id": "1328d17c",
   "metadata": {},
   "outputs": [
    {
     "name": "stdout",
     "output_type": "stream",
     "text": [
      "0\n"
     ]
    }
   ],
   "source": [
    "print(degree(atan(7/3)))"
   ]
  },
  {
   "cell_type": "code",
   "execution_count": 18,
   "id": "204725a6",
   "metadata": {},
   "outputs": [
    {
     "name": "stdout",
     "output_type": "stream",
     "text": [
      "0.404891786285083\n",
      "23.198590513648185\n",
      "66.80140948635182\n"
     ]
    }
   ],
   "source": [
    "import math \n",
    "a = 7\n",
    "b = 3\n",
    "\n",
    "# Berechnung der Winkel in Radiant mit der Inverse-Tangens-Funktion\n",
    "betta= atan(7/3)\n",
    "alpha = atan(3/7)\n",
    "print(alpha)\n",
    "print(math.degrees(alpha))\n",
    "print(math.degrees(betta))"
   ]
  },
  {
   "cell_type": "code",
   "execution_count": 2,
   "id": "bcbdacf0",
   "metadata": {},
   "outputs": [
    {
     "data": {
      "text/plain": [
       "5.0"
      ]
     },
     "execution_count": 2,
     "metadata": {},
     "output_type": "execute_result"
    }
   ],
   "source": [
    "from math import *\n",
    "sqrt((-1)**2-1**2)+(1**2-(-2**2))"
   ]
  },
  {
   "cell_type": "code",
   "execution_count": null,
   "id": "0de6907d",
   "metadata": {},
   "outputs": [],
   "source": [
    "from math import *\n"
   ]
  },
  {
   "cell_type": "code",
   "execution_count": 19,
   "id": "f25fd528",
   "metadata": {},
   "outputs": [
    {
     "data": {
      "image/png": "[encoded data removed]",
      "text/plain": [
       "<Figure size 640x480 with 1 Axes>"
      ]
     },
     "metadata": {},
     "output_type": "display_data"
    }
   ],
   "source": [
    "import numpy as np\n",
    "import matplotlib.pyplot as plt\n",
    "\n",
    "x = np.linspace(-np.pi, np.pi, 1000)\n",
    "y = np.arcsin(np.sin(x))\n",
    "\n",
    "plt.plot(x, y)\n",
    "plt.xlabel('x')\n",
    "plt.ylabel('sin(arcsin(x))')\n",
    "plt.show()\n"
   ]
  },
  {
   "cell_type": "code",
   "execution_count": 13,
   "id": "639bff4a",
   "metadata": {},
   "outputs": [
    {
     "data": {
      "text/latex": [
       "$\\displaystyle \\frac{x}{4}$"
      ],
      "text/plain": [
       "x/4"
      ]
     },
     "execution_count": 13,
     "metadata": {},
     "output_type": "execute_result"
    }
   ],
   "source": [
    "x = symbols(\"x\")\n",
    "(x/4) "
   ]
  },
  {
   "cell_type": "code",
   "execution_count": 15,
   "id": "dbb4a74b",
   "metadata": {},
   "outputs": [
    {
     "data": {
      "text/latex": [
       "$\\displaystyle \\frac{\\operatorname{atan}{\\left(\\frac{x}{4} \\right)}}{4}$"
      ],
      "text/plain": [
       "atan(x/4)/4"
      ]
     },
     "execution_count": 15,
     "metadata": {},
     "output_type": "execute_result"
    }
   ],
   "source": [
    "atan(x/4)/4"
   ]
  },
  {
   "cell_type": "code",
   "execution_count": 2,
   "id": "723cd04e",
   "metadata": {},
   "outputs": [
    {
     "data": {
      "text/plain": [
       "1.5707963267948968"
      ]
     },
     "execution_count": 2,
     "metadata": {},
     "output_type": "execute_result"
    }
   ],
   "source": [
    "\n",
    "((2*pi)/100)*25"
   ]
  },
  {
   "cell_type": "code",
   "execution_count": null,
   "id": "b5f44b96",
   "metadata": {},
   "outputs": [],
   "source": []
  }
 ],
 "metadata": {
  "kernelspec": {
   "display_name": "Python 3 (ipykernel)",
   "language": "python",
   "name": "python3"
  },
  "language_info": {
   "codemirror_mode": {
    "name": "ipython",
    "version": 3
   },
   "file_extension": ".py",
   "mimetype": "text/x-python",
   "name": "python",
   "nbconvert_exporter": "python",
   "pygments_lexer": "ipython3",
   "version": "3.11.2"
  }
 },
 "nbformat": 4,
 "nbformat_minor": 5
}
