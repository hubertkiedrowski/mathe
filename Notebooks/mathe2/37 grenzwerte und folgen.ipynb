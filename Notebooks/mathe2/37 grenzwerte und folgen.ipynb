{
 "cells": [
  {
   "cell_type": "code",
   "execution_count": null,
   "metadata": {},
   "outputs": [],
   "source": [
    "from sympy import gcdex, gcd, isprime, primepi, prime, divisors, primefactors, factorint, mod_inverse, factorial\n",
    "from math import log, sqrt\n",
    "from random import randrange\n",
    "from sympy.ntheory.modular import crt\n",
    "from fractions import Fraction  # (arbeiten mit Brüchen)\n",
    "# from simulate import *\n",
    "from sympy.sets.sets import *\n",
    "\n",
    "\n",
    "# Reele Zahlen           (R)           alle zahlen zusammen\n",
    "# Rationale zahlen       (Q)           alles durch brüche darstellbare\n",
    "# ganze zahlen           (Z)           -x bis x\n",
    "\n",
    "# A ∩ B    Wenn A und B zwei Mengen sind, dann ist ihre Schnittmenge definiert als eine neue Menge C, die alle Elemente enthält, die in A und B enthalten sind.\n",
    "# A ∪ B    Wenn A und B zwei Mengen sind, dann ist ihre Vereinigungsmenge definiert als eine neue Menge C, die alle Elemente enthält, die entweder in A oder in B (oder in beiden) enthalten sind\n",
    "# A ⊆ B    Wenn A und B zwei Mengen sind, dann gilt A ⊆ B, wenn jedes Element in A auch in B enthalten ist.\n",
    "# A \\ B    Wenn A und B zwei Mengen sind, dann ist A \\ B eine neue Menge, die alle Elemente enthält, die in A enthalten sind, aber nicht in B enthalten sind.\n",
    "# [A , B)  A ist mit in der Menge und alle zahlen bis B\n",
    "\n",
    "# Es gibt ungefähr n/ log n Primzahlen unterhalb von n\n",
    "# Der Wert der n-ten Primzahl ist ungefähr n ln n.\n",
    "\n",
    "\n",
    "\n",
    "# Jede dieser Eigenschaften überträgt sich auf die Verkettung, es gilt also:\n",
    "\n",
    "# Die Komposition injektiver Funktionen ist injektiv.\n",
    "# Die Komposition surjektiver Funktionen ist surjektiv.\n",
    "# Die Komposition bijektiver Funktionen ist bijektiv.\n",
    "\n",
    "# Umgekehrt gilt: Ist eine Verkettung g ∘ f \n",
    "\n",
    "# injektiv, so ist f injektiv.\n",
    "# surjektiv, so ist g surjektiv.\n",
    "# bijektiv, so ist f injektiv und g surjektiv.\n",
    "\n",
    "\n",
    "#(x, y) 7→ (x + y, x − y) injektiv\n",
    "#x+y nicht injekltiv"
   ]
  },
  {
   "cell_type": "code",
   "execution_count": 4,
   "metadata": {},
   "outputs": [
    {
     "name": "stdout",
     "output_type": "stream",
     "text": [
      "0.0\n",
      "9.99900009999\n",
      "2096.7326325061726\n",
      "1045.7215724555704\n",
      "43.96287732216264\n",
      "0.4765988111329112\n",
      "0.0021923793075525073\n",
      "5.581550383243615e-06\n",
      "9.215996658532725e-09\n",
      "1.093205612617904e-11\n",
      "9.990005497800715e-15\n",
      "7.392114551368708e-18\n",
      "4.59499496327324e-21\n",
      "2.4674356990200697e-24\n",
      "1.169716907415326e-27\n",
      "4.980409249548675e-31\n",
      "1.9311890903301526e-34\n",
      "6.897458326909888e-38\n",
      "2.290556011709724e-41\n",
      "7.128538537002212e-45\n"
     ]
    }
   ],
   "source": [
    "foo = lambda n :(n**20*100000*n)/(10001**n)\n",
    "for x in range(20):\n",
    "    print (foo(x))"
   ]
  },
  {
   "cell_type": "code",
   "execution_count": null,
   "metadata": {},
   "outputs": [],
   "source": []
  }
 ],
 "metadata": {
  "kernelspec": {
   "display_name": "Python 3",
   "language": "python",
   "name": "python3"
  },
  "language_info": {
   "codemirror_mode": {
    "name": "ipython",
    "version": 3
   },
   "file_extension": ".py",
   "mimetype": "text/x-python",
   "name": "python",
   "nbconvert_exporter": "python",
   "pygments_lexer": "ipython3",
   "version": "3.10.7"
  },
  "orig_nbformat": 4
 },
 "nbformat": 4,
 "nbformat_minor": 2
}
