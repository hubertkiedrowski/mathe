{
 "cells": [
  {
   "cell_type": "code",
   "execution_count": 3,
   "metadata": {},
   "outputs": [],
   "source": [
    "from sympy import gcdex, gcd, isprime, primepi, prime, divisors, primefactors, factorint, mod_inverse, factorial\n",
    "from math import log, sqrt\n",
    "from random import randrange\n",
    "from sympy.ntheory.modular import crt\n",
    "from fractions import Fraction # (arbeiten mit Brüchen)\n",
    "from simulate import *\n",
    "from sympy.sets.sets import *\n",
    "\n",
    "\n",
    "#Reele Zahlen           (R)           alle zahlen zusammen \n",
    "#Rationale zahlen       (Q)           alles durch brüche darstellbare \n",
    "#ganze zahlen           (Z)           -x bis x \n",
    "\n",
    "# A ∩ B    Wenn A und B zwei Mengen sind, dann ist ihre Schnittmenge definiert als eine neue Menge C, die alle Elemente enthält, die in A und B enthalten sind.\n",
    "# A ∪ B    Wenn A und B zwei Mengen sind, dann ist ihre Vereinigungsmenge definiert als eine neue Menge C, die alle Elemente enthält, die entweder in A oder in B (oder in beiden) enthalten sind\n",
    "# A ⊆ B    Wenn A und B zwei Mengen sind, dann gilt A ⊆ B, wenn jedes Element in A auch in B enthalten ist.\n",
    "# A \\ B    Wenn A und B zwei Mengen sind, dann ist A \\ B eine neue Menge, die alle Elemente enthält, die in A enthalten sind, aber nicht in B enthalten sind.\n",
    "# [A , B)  A ist mit in der Menge und alle zahlen bis B"
   ]
  },
  {
   "cell_type": "code",
   "execution_count": 6,
   "metadata": {},
   "outputs": [
    {
     "data": {
      "text/latex": [
       "$\\displaystyle \\left[2, 3\\right]$"
      ],
      "text/plain": [
       "Interval(2, 3)"
      ]
     },
     "execution_count": 6,
     "metadata": {},
     "output_type": "execute_result"
    }
   ],
   "source": [
    "A = Interval(0,3,True)\n",
    "B = Interval(2,4,False,True)\n",
    "Intersection(A,B)"
   ]
  },
  {
   "cell_type": "code",
   "execution_count": 8,
   "metadata": {},
   "outputs": [],
   "source": [
    "def strange(n):\n",
    "    n +=1\n",
    "    k = int(sqrt(2*n))\n",
    "    print(k) \n",
    "    return 1 if n == k* (k+1) // 2 else 0"
   ]
  },
  {
   "cell_type": "code",
   "execution_count": 11,
   "metadata": {},
   "outputs": [
    {
     "name": "stdout",
     "output_type": "stream",
     "text": [
      "4\n"
     ]
    },
    {
     "data": {
      "text/plain": [
       "0"
      ]
     },
     "execution_count": 11,
     "metadata": {},
     "output_type": "execute_result"
    }
   ],
   "source": [
    "strange(10)"
   ]
  },
  {
   "cell_type": "code",
   "execution_count": null,
   "metadata": {},
   "outputs": [],
   "source": []
  }
 ],
 "metadata": {
  "kernelspec": {
   "display_name": "Python 3",
   "language": "python",
   "name": "python3"
  },
  "language_info": {
   "codemirror_mode": {
    "name": "ipython",
    "version": 3
   },
   "file_extension": ".py",
   "mimetype": "text/x-python",
   "name": "python",
   "nbconvert_exporter": "python",
   "pygments_lexer": "ipython3",
   "version": "3.10.7"
  },
  "orig_nbformat": 4
 },
 "nbformat": 4,
 "nbformat_minor": 2
}
