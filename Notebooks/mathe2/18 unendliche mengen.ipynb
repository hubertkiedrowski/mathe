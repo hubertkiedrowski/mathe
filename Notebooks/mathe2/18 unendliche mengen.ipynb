{
 "cells": [
  {
   "cell_type": "code",
   "execution_count": 2,
   "metadata": {},
   "outputs": [],
   "source": [
    "from sympy import gcdex, gcd, isprime, primepi, prime, divisors, primefactors, factorint, mod_inverse, factorial\n",
    "from math import log, sqrt\n",
    "from random import randrange\n",
    "from sympy.ntheory.modular import crt\n",
    "from fractions import Fraction # (arbeiten mit Brüchen)\n",
    "#from simulate import *\n",
    "from sympy.sets.sets import *\n",
    "\n",
    "\n",
    "#Reele Zahlen           (R)           alle zahlen zusammen \n",
    "#Rationale zahlen       (Q)           alles durch brüche darstellbare \n",
    "#ganze zahlen           (Z)           -x bis x \n",
    "\n",
    "# A ∩ B    Wenn A und B zwei Mengen sind, dann ist ihre Schnittmenge definiert als eine neue Menge C, die alle Elemente enthält, die in A und B enthalten sind.\n",
    "# A ∪ B    Wenn A und B zwei Mengen sind, dann ist ihre Vereinigungsmenge definiert als eine neue Menge C, die alle Elemente enthält, die entweder in A oder in B (oder in beiden) enthalten sind\n",
    "# A ⊆ B    Wenn A und B zwei Mengen sind, dann gilt A ⊆ B, wenn jedes Element in A auch in B enthalten ist.\n",
    "# A \\ B    Wenn A und B zwei Mengen sind, dann ist A \\ B eine neue Menge, die alle Elemente enthält, die in A enthalten sind, aber nicht in B enthalten sind.\n",
    "# [A , B)  A ist mit in der Menge und alle zahlen bis B\n",
    "\n",
    "# Es gibt ungefähr n/ log n Primzahlen unterhalb von n\n"
   ]
  },
  {
   "cell_type": "code",
   "execution_count": null,
   "metadata": {},
   "outputs": [],
   "source": [
    "from sympy import prime\n",
    "from random import randrange\n",
    "def foo ():\n",
    "    i = 0\n",
    "    while p != 100:\n",
    "        i += 1\n",
    "        p = 1\n",
    "        for k in range(i):\n",
    "            p *= prime(randrange(1,i+2))\n",
    "        print(p) "
   ]
  },
  {
   "cell_type": "code",
   "execution_count": 12,
   "metadata": {},
   "outputs": [
    {
     "data": {
      "text/plain": [
       "4.276909229288298e+38"
      ]
     },
     "execution_count": 12,
     "metadata": {},
     "output_type": "execute_result"
    }
   ],
   "source": [
    "x = ((10**21)/log(10**21))\n",
    "float(x*x)"
   ]
  },
  {
   "cell_type": "code",
   "execution_count": 16,
   "metadata": {},
   "outputs": [
    {
     "data": {
      "text/plain": [
       "-0.8888888888888888"
      ]
     },
     "execution_count": 16,
     "metadata": {},
     "output_type": "execute_result"
    }
   ],
   "source": [
    "float(Fraction(-2,3)*Fraction(4,3))\n"
   ]
  },
  {
   "cell_type": "code",
   "execution_count": 17,
   "metadata": {},
   "outputs": [
    {
     "data": {
      "text/latex": [
       "$\\displaystyle 2.0701370304055 \\cdot 10^{22}$"
      ],
      "text/plain": [
       "2.07013703040550e+22"
      ]
     },
     "execution_count": 17,
     "metadata": {},
     "output_type": "execute_result"
    }
   ],
   "source": [
    "((10**21 / log(10**21)  )*1001).evalf()"
   ]
  },
  {
   "cell_type": "code",
   "execution_count": 19,
   "metadata": {},
   "outputs": [
    {
     "name": "stdout",
     "output_type": "stream",
     "text": [
      "2\n",
      "6\n",
      "18\n",
      "54\n",
      "162\n",
      "486\n",
      "1458\n",
      "4374\n",
      "13122\n",
      "39366\n",
      "118098\n",
      "354294\n"
     ]
    }
   ],
   "source": [
    "for x in range(12):\n",
    "    print(2*3**x)"
   ]
  },
  {
   "cell_type": "code",
   "execution_count": 7,
   "metadata": {},
   "outputs": [
    {
     "data": {
      "text/latex": [
       "$\\displaystyle \\left[2, 3\\right]$"
      ],
      "text/plain": [
       "Interval(2, 3)"
      ]
     },
     "execution_count": 7,
     "metadata": {},
     "output_type": "execute_result"
    }
   ],
   "source": [
    "A = Interval(0,3,True)\n",
    "B = Interval(2,4,False,True)\n",
    "Intersection(A,B)"
   ]
  },
  {
   "cell_type": "code",
   "execution_count": 8,
   "metadata": {},
   "outputs": [],
   "source": [
    "def strange(n):\n",
    "    n +=1\n",
    "    k = int(sqrt(2*n))\n",
    "    print(k) \n",
    "    return 1 if n == k* (k+1) // 2 else 0"
   ]
  },
  {
   "cell_type": "code",
   "execution_count": 9,
   "metadata": {},
   "outputs": [
    {
     "name": "stdout",
     "output_type": "stream",
     "text": [
      "4\n"
     ]
    },
    {
     "data": {
      "text/plain": [
       "0"
      ]
     },
     "execution_count": 9,
     "metadata": {},
     "output_type": "execute_result"
    }
   ],
   "source": [
    "strange(10)"
   ]
  },
  {
   "cell_type": "code",
   "execution_count": 1,
   "metadata": {},
   "outputs": [
    {
     "data": {
      "text/plain": [
       "2"
      ]
     },
     "execution_count": 1,
     "metadata": {},
     "output_type": "execute_result"
    }
   ],
   "source": [
    "-2 * -1"
   ]
  },
  {
   "cell_type": "code",
   "execution_count": null,
   "metadata": {},
   "outputs": [],
   "source": []
  }
 ],
 "metadata": {
  "kernelspec": {
   "display_name": "Python 3",
   "language": "python",
   "name": "python3"
  },
  "language_info": {
   "codemirror_mode": {
    "name": "ipython",
    "version": 3
   },
   "file_extension": ".py",
   "mimetype": "text/x-python",
   "name": "python",
   "nbconvert_exporter": "python",
   "pygments_lexer": "ipython3",
   "version": "3.10.7"
  },
  "orig_nbformat": 4
 },
 "nbformat": 4,
 "nbformat_minor": 2
}
