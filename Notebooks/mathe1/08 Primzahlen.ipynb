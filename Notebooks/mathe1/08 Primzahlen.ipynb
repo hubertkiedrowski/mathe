{
 "cells": [
  {
   "cell_type": "code",
   "execution_count": 97,
   "id": "74ef13d5-d008-4411-9719-981aef0d98e9",
   "metadata": {},
   "outputs": [],
   "source": [
    "from sympy import gcdex,isprime,gcd,gcdex,primepi,prime,mod_inverse,factorint\n",
    "from math import log,ceil,sqrt\n",
    "from random import randrange\n",
    "from sympy.ntheory.modular import crt\n",
    "from fractions import Fraction as fr"
   ]
  },
  {
   "cell_type": "code",
   "execution_count": 106,
   "id": "776ee658-2af8-4d79-85b4-b746d76f9ed4",
   "metadata": {},
   "outputs": [
    {
     "data": {
      "text/latex": [
       "$\\displaystyle 10$"
      ],
      "text/plain": [
       "10"
      ]
     },
     "execution_count": 106,
     "metadata": {},
     "output_type": "execute_result"
    }
   ],
   "source": [
    "p1,p2,p3 = 2,5,7 \n",
    "gcd(p1**2 *p2*p3**3,p1*p2**3)"
   ]
  },
  {
   "cell_type": "code",
   "execution_count": 107,
   "id": "febc9d4c-34cd-416c-adb7-7cf7bc414e4f",
   "metadata": {},
   "outputs": [
    {
     "data": {
      "text/plain": [
       "20"
      ]
     },
     "execution_count": 107,
     "metadata": {},
     "output_type": "execute_result"
    }
   ],
   "source": [
    "p1**2 *p2"
   ]
  },
  {
   "cell_type": "code",
   "execution_count": 108,
   "id": "c8affeda-01e7-4c39-9a60-19e8b196ad16",
   "metadata": {},
   "outputs": [
    {
     "data": {
      "text/plain": [
       "{2: 2, 5: 1}"
      ]
     },
     "execution_count": 108,
     "metadata": {},
     "output_type": "execute_result"
    }
   ],
   "source": [
    "factorint(20)"
   ]
  },
  {
   "cell_type": "code",
   "execution_count": 109,
   "id": "5052281f-77ca-4cba-bd6d-a34a7dcc537c",
   "metadata": {},
   "outputs": [
    {
     "data": {
      "text/plain": [
       "10"
      ]
     },
     "execution_count": 109,
     "metadata": {},
     "output_type": "execute_result"
    }
   ],
   "source": [
    "p1*p2"
   ]
  },
  {
   "cell_type": "code",
   "execution_count": null,
   "id": "d3c48637-454c-4645-bcbb-2a3e3c81ea10",
   "metadata": {},
   "outputs": [],
   "source": [
    "a = p1**2*p2**3\n",
    "b = p1**3 *q"
   ]
  },
  {
   "cell_type": "code",
   "execution_count": 125,
   "id": "d9ad1905-7db7-4d14-a5e7-0469b58ec1dc",
   "metadata": {},
   "outputs": [
    {
     "data": {
      "text/plain": [
       "0.05428681023790647"
      ]
     },
     "execution_count": 125,
     "metadata": {},
     "output_type": "execute_result"
    }
   ],
   "source": [
    "10**8/10**8/log(10**8)"
   ]
  },
  {
   "cell_type": "code",
   "execution_count": 120,
   "id": "7ff2b2ce-24c4-48b5-b664-112edc250530",
   "metadata": {},
   "outputs": [
    {
     "data": {
      "text/plain": [
       "0.05428681023790647"
      ]
     },
     "execution_count": 120,
     "metadata": {},
     "output_type": "execute_result"
    }
   ],
   "source": [
    "1/log(10**8)"
   ]
  },
  {
   "cell_type": "code",
   "execution_count": 123,
   "id": "a448376b-2c02-4c2a-bcd0-90d6b1378345",
   "metadata": {},
   "outputs": [
    {
     "data": {
      "text/plain": [
       "1e-08"
      ]
     },
     "execution_count": 123,
     "metadata": {},
     "output_type": "execute_result"
    }
   ],
   "source": [
    "10**-8"
   ]
  },
  {
   "cell_type": "code",
   "execution_count": 127,
   "id": "93057adf-1937-40fa-8055-1dc6fcee4182",
   "metadata": {},
   "outputs": [
    {
     "data": {
      "text/latex": [
       "$\\displaystyle 22344479$"
      ],
      "text/plain": [
       "22344479"
      ]
     },
     "execution_count": 127,
     "metadata": {},
     "output_type": "execute_result"
    }
   ],
   "source": [
    "primepi(420000000)"
   ]
  },
  {
   "cell_type": "code",
   "execution_count": 130,
   "id": "f23a01ad-0059-4beb-a076-7b23a823218d",
   "metadata": {},
   "outputs": [
    {
     "data": {
      "text/plain": [
       "3223619130191664.0"
      ]
     },
     "execution_count": 130,
     "metadata": {},
     "output_type": "execute_result"
    }
   ],
   "source": [
    "10**14*log(10**14)"
   ]
  },
  {
   "cell_type": "code",
   "execution_count": 129,
   "id": "d1ed1781-d4f0-4d71-adea-4e14afa8cb46",
   "metadata": {},
   "outputs": [
    {
     "data": {
      "text/plain": [
       "3000000000000000"
      ]
     },
     "execution_count": 129,
     "metadata": {},
     "output_type": "execute_result"
    }
   ],
   "source": [
    "3*10**15"
   ]
  },
  {
   "cell_type": "code",
   "execution_count": 132,
   "id": "0c1ee9ed-2359-4208-8948-f9f52f803d6c",
   "metadata": {},
   "outputs": [
    {
     "data": {
      "text/plain": [
       "162259276829213363391578010288127"
      ]
     },
     "execution_count": 132,
     "metadata": {},
     "output_type": "execute_result"
    }
   ],
   "source": [
    "pow(2,107)-1"
   ]
  },
  {
   "cell_type": "code",
   "execution_count": 133,
   "id": "f59d800e-33c8-4ca2-a39a-f56c54e38e2f",
   "metadata": {},
   "outputs": [
    {
     "data": {
      "text/plain": [
       "2000000000000000000000000000000"
      ]
     },
     "execution_count": 133,
     "metadata": {},
     "output_type": "execute_result"
    }
   ],
   "source": [
    "2*10**30"
   ]
  },
  {
   "cell_type": "code",
   "execution_count": 134,
   "id": "ce5a0563-b8c5-40a2-9cba-8d1c9c69acae",
   "metadata": {},
   "outputs": [
    {
     "data": {
      "text/plain": [
       "1.3954139994076264e+32"
      ]
     },
     "execution_count": 134,
     "metadata": {},
     "output_type": "execute_result"
    }
   ],
   "source": [
    "2*10**30*log(2*10**30)"
   ]
  },
  {
   "cell_type": "code",
   "execution_count": null,
   "id": "47595bf2-a48f-4c59-8442-0a77d8cdf8e6",
   "metadata": {},
   "outputs": [],
   "source": [
    "162259276829213363391578010288127"
   ]
  }
 ],
 "metadata": {
  "kernelspec": {
   "display_name": "Python 3 (ipykernel)",
   "language": "python",
   "name": "python3"
  },
  "language_info": {
   "codemirror_mode": {
    "name": "ipython",
    "version": 3
   },
   "file_extension": ".py",
   "mimetype": "text/x-python",
   "name": "python",
   "nbconvert_exporter": "python",
   "pygments_lexer": "ipython3",
   "version": "3.9.10"
  }
 },
 "nbformat": 4,
 "nbformat_minor": 5
}
