{
 "cells": [
  {
   "cell_type": "code",
   "execution_count": null,
   "id": "3e3157bf-5a88-40ae-8a0d-ce7191aae046",
   "metadata": {},
   "outputs": [],
   "source": [
    "from sympy import gcdex,isprime,gcd,primepi,prime,mod_inverse\n",
    "from math import log,ceil\n",
    "from random import randrange\n",
    "from sympy.ntheory.modular import crt"
   ]
  }
 ],
 "metadata": {
  "kernelspec": {
   "display_name": "Python 3 (ipykernel)",
   "language": "python",
   "name": "python3"
  },
  "language_info": {
   "codemirror_mode": {
    "name": "ipython",
    "version": 3
   },
   "file_extension": ".py",
   "mimetype": "text/x-python",
   "name": "python",
   "nbconvert_exporter": "python",
   "pygments_lexer": "ipython3",
   "version": "3.9.10"
  }
 },
 "nbformat": 4,
 "nbformat_minor": 5
}
