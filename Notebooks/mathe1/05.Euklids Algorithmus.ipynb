{
 "cells": [
  {
   "cell_type": "code",
   "execution_count": 4,
   "id": "f009acc0-46d9-4f81-87b1-0239eedecca9",
   "metadata": {},
   "outputs": [],
   "source": [
    "from sympy import gcdex,isprime,gcd,gcdex,primepi,prime,mod_inverse\n",
    "from math import log,ceil,sqrt\n",
    "from random import randrange\n",
    "from sympy.ntheory.modular import crt\n",
    "from fractions import Fraction as fr"
   ]
  },
  {
   "cell_type": "code",
   "execution_count": 3,
   "id": "a1a1ab7b-2e92-47a7-957e-f2e1b0504c9f",
   "metadata": {},
   "outputs": [
    {
     "data": {
      "text/latex": [
       "$\\displaystyle 43$"
      ],
      "text/plain": [
       "43"
      ]
     },
     "execution_count": 3,
     "metadata": {},
     "output_type": "execute_result"
    }
   ],
   "source": [
    "gcd(gcd(471694074821,471766128373),471757130107)"
   ]
  },
  {
   "cell_type": "code",
   "execution_count": 5,
   "id": "f92626e1-8247-4fc0-b7d9-90b48b0c785b",
   "metadata": {},
   "outputs": [
    {
     "data": {
      "text/plain": [
       "(-3, 5, 1)"
      ]
     },
     "execution_count": 5,
     "metadata": {},
     "output_type": "execute_result"
    }
   ],
   "source": [
    "gcdex(18,11)"
   ]
  },
  {
   "cell_type": "code",
   "execution_count": 6,
   "id": "c0210318-ed77-485c-93cd-9f620954d8c3",
   "metadata": {},
   "outputs": [
    {
     "data": {
      "text/plain": [
       "1"
      ]
     },
     "execution_count": 6,
     "metadata": {},
     "output_type": "execute_result"
    }
   ],
   "source": [
    "18*-3+11*5"
   ]
  },
  {
   "cell_type": "code",
   "execution_count": null,
   "id": "830e2bf9-5e57-4d4c-be52-b6f90a3690fc",
   "metadata": {},
   "outputs": [],
   "source": []
  }
 ],
 "metadata": {
  "kernelspec": {
   "display_name": "Python 3 (ipykernel)",
   "language": "python",
   "name": "python3"
  },
  "language_info": {
   "codemirror_mode": {
    "name": "ipython",
    "version": 3
   },
   "file_extension": ".py",
   "mimetype": "text/x-python",
   "name": "python",
   "nbconvert_exporter": "python",
   "pygments_lexer": "ipython3",
   "version": "3.9.10"
  }
 },
 "nbformat": 4,
 "nbformat_minor": 5
}
