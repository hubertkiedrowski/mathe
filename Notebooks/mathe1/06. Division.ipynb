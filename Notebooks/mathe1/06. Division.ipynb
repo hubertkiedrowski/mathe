{
 "cells": [
  {
   "cell_type": "code",
   "execution_count": 1,
   "id": "aa388f4a-efcb-4b63-a2d4-a160bfdcc9bc",
   "metadata": {},
   "outputs": [],
   "source": [
    "from sympy import gcdex,isprime,gcd,primepi,prime,mod_inverse\n",
    "from math import log,ceil,sqrt\n",
    "from random import randrange\n",
    "from sympy.ntheory.modular import crt\n",
    "from fractions import Fraction as fr"
   ]
  },
  {
   "cell_type": "code",
   "execution_count": 8,
   "id": "912ea45e-2259-43e0-8b39-94307a040824",
   "metadata": {},
   "outputs": [
    {
     "data": {
      "text/plain": [
       "1722"
      ]
     },
     "execution_count": 8,
     "metadata": {},
     "output_type": "execute_result"
    }
   ],
   "source": [
    "#58\n",
    "timer=0\n",
    "for x in range(42):\n",
    "    for a in range(42):\n",
    "        if (5*x)%42 != a:\n",
    "            timer+=1\n",
    "timer"
   ]
  },
  {
   "cell_type": "code",
   "execution_count": 10,
   "id": "2b94c732-f9c2-4ef5-8d89-1df3310157d1",
   "metadata": {},
   "outputs": [
    {
     "data": {
      "text/plain": [
       "1722"
      ]
     },
     "execution_count": 10,
     "metadata": {},
     "output_type": "execute_result"
    }
   ],
   "source": [
    "#59\n",
    "timer=0\n",
    "for x in range(42):\n",
    "    for a in range(42):\n",
    "        if (5*x**2 +3 )%42 != a:\n",
    "            timer+=1\n",
    "timer\n"
   ]
  },
  {
   "cell_type": "code",
   "execution_count": 12,
   "id": "61099ab2-4f69-4b09-b6a9-eb4ea8796262",
   "metadata": {},
   "outputs": [
    {
     "name": "stdout",
     "output_type": "stream",
     "text": [
      "0\n",
      "1\n",
      "401\n",
      "402\n"
     ]
    }
   ],
   "source": [
    "#64\n",
    "for x in range(802):\n",
    "    if (x*x)%802 ==x:\n",
    "        print(x)"
   ]
  },
  {
   "cell_type": "code",
   "execution_count": null,
   "id": "34d8709b-1cbc-40ca-8080-c544967174f2",
   "metadata": {},
   "outputs": [],
   "source": []
  }
 ],
 "metadata": {
  "kernelspec": {
   "display_name": "Python 3 (ipykernel)",
   "language": "python",
   "name": "python3"
  },
  "language_info": {
   "codemirror_mode": {
    "name": "ipython",
    "version": 3
   },
   "file_extension": ".py",
   "mimetype": "text/x-python",
   "name": "python",
   "nbconvert_exporter": "python",
   "pygments_lexer": "ipython3",
   "version": "3.9.10"
  }
 },
 "nbformat": 4,
 "nbformat_minor": 5
}
