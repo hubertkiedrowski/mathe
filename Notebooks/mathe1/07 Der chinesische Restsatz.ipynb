{
 "cells": [
  {
   "cell_type": "code",
   "execution_count": 56,
   "id": "32ea00f4-f30e-4e7c-8ccc-7634eaf1541f",
   "metadata": {},
   "outputs": [],
   "source": [
    "from sympy import gcdex,isprime,gcd,primepi,prime,mod_inverse,factorint\n",
    "from math import log,ceil\n",
    "from random import randrange\n",
    "from sympy.ntheory.modular import crt\n"
   ]
  },
  {
   "cell_type": "code",
   "execution_count": 16,
   "id": "c0d2205b-9ff6-4f35-9afe-baa12143beb3",
   "metadata": {},
   "outputs": [],
   "source": [
    "crt((4,6,7),(1,2,3))"
   ]
  },
  {
   "cell_type": "code",
   "execution_count": 23,
   "id": "0b4bf24d-506c-43f4-88b4-7555c4ee3653",
   "metadata": {},
   "outputs": [
    {
     "data": {
      "text/plain": [
       "(mpz(4), 6)"
      ]
     },
     "execution_count": 23,
     "metadata": {},
     "output_type": "execute_result"
    }
   ],
   "source": [
    "crt([1,2,3],[4,6,7])"
   ]
  },
  {
   "cell_type": "code",
   "execution_count": 20,
   "id": "1945b169-4238-468b-a41d-a11ffeef4e98",
   "metadata": {},
   "outputs": [
    {
     "data": {
      "text/plain": [
       "(mpz(4), 6)"
      ]
     },
     "execution_count": 20,
     "metadata": {},
     "output_type": "execute_result"
    }
   ],
   "source": []
  },
  {
   "cell_type": "code",
   "execution_count": 51,
   "id": "cc899431-5ed9-48b5-be74-02937732004f",
   "metadata": {},
   "outputs": [],
   "source": [
    "crt((107,13,169),(42,1,18))"
   ]
  },
  {
   "cell_type": "code",
   "execution_count": 53,
   "id": "44393abb-7594-47de-938b-674c912dfe9d",
   "metadata": {},
   "outputs": [
    {
     "data": {
      "text/plain": [
       "0"
      ]
     },
     "execution_count": 53,
     "metadata": {},
     "output_type": "execute_result"
    }
   ],
   "source": [
    "169%13"
   ]
  },
  {
   "cell_type": "code",
   "execution_count": 69,
   "id": "f3bf2620-3e98-4d2a-b8dc-11cc3b7121ae",
   "metadata": {},
   "outputs": [
    {
     "data": {
      "text/plain": [
       "{2: 3, 3: 1, 7: 2, 59: 1}"
      ]
     },
     "execution_count": 69,
     "metadata": {},
     "output_type": "execute_result"
    }
   ],
   "source": [
    "factorint()"
   ]
  },
  {
   "cell_type": "code",
   "execution_count": 66,
   "id": "ecdfb678-0eef-4567-9486-8d804b6e153d",
   "metadata": {},
   "outputs": [
    {
     "data": {
      "text/plain": [
       "625"
      ]
     },
     "execution_count": 66,
     "metadata": {},
     "output_type": "execute_result"
    }
   ],
   "source": [
    "5*5*5*5\n"
   ]
  },
  {
   "cell_type": "code",
   "execution_count": 67,
   "id": "3e5db438-d451-40c1-8f7e-86589f74cddd",
   "metadata": {},
   "outputs": [
    {
     "data": {
      "text/plain": [
       "10000"
      ]
     },
     "execution_count": 67,
     "metadata": {},
     "output_type": "execute_result"
    }
   ],
   "source": [
    "16*625"
   ]
  },
  {
   "cell_type": "code",
   "execution_count": null,
   "id": "644ae32f-f4dc-49b3-a17f-06fabf983e8c",
   "metadata": {},
   "outputs": [],
   "source": []
  }
 ],
 "metadata": {
  "kernelspec": {
   "display_name": "Python 3 (ipykernel)",
   "language": "python",
   "name": "python3"
  },
  "language_info": {
   "codemirror_mode": {
    "name": "ipython",
    "version": 3
   },
   "file_extension": ".py",
   "mimetype": "text/x-python",
   "name": "python",
   "nbconvert_exporter": "python",
   "pygments_lexer": "ipython3",
   "version": "3.9.10"
  }
 },
 "nbformat": 4,
 "nbformat_minor": 5
}
