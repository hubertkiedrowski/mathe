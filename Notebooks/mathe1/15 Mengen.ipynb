{
 "cells": [
  {
   "cell_type": "code",
   "execution_count": 2,
   "id": "5bf5a471-640e-4e94-895c-cb79a9e49a27",
   "metadata": {},
   "outputs": [],
   "source": [
    "from sympy import gcdex,isprime,gcd,primepi,prime,mod_inverse\n",
    "from math import log,ceil\n",
    "from random import randrange\n",
    "from sympy.ntheory.modular import crt\n"
   ]
  },
  {
   "cell_type": "code",
   "execution_count": null,
   "id": "7a1e2056-7203-47b6-9199-293bbc1f2f8c",
   "metadata": {},
   "outputs": [
    {
     "name": "stdout",
     "output_type": "stream",
     "text": [
      "22 7\n",
      "44 14\n",
      "47 15\n"
     ]
    }
   ],
   "source": [
    "pi = 3.14159\n",
    "for x in range(1,50):\n",
    "    for y in range(1,100):\n",
    "        z = x/y\n",
    "        if z < pi+0.01 and z >pi -0.01:\n",
    "            print(x,y)\n",
    "        \n",
    "        \n",
    "        \n",
    "        \n",
    "        \n",
    "        "
   ]
  },
  {
   "cell_type": "markdown",
   "id": "8e02ca88-f53d-42aa-bf60-56282873e8ce",
   "metadata": {},
   "source": [
    "11"
   ]
  },
  {
   "cell_type": "code",
   "execution_count": null,
   "id": "70339815-0ace-4b09-b938-1d3aff687e26",
   "metadata": {},
   "outputs": [
    {
     "data": {
      "text/plain": [
       "0.023809523809523808"
      ]
     },
     "execution_count": 17,
     "metadata": {},
     "output_type": "execute_result"
    }
   ],
   "source": [
    "42**-1"
   ]
  },
  {
   "cell_type": "code",
   "execution_count": null,
   "id": "a754eaca-5a86-4a48-b409-981841b07972",
   "metadata": {},
   "outputs": [],
   "source": []
  },
  {
   "cell_type": "code",
   "execution_count": 2,
   "id": "adc70128-6021-4645-8721-87f4dcc17e53",
   "metadata": {},
   "outputs": [],
   "source": [
    "A = {2,3,4}\n",
    "B = {4,5,6}\n",
    "C = {42,2,3,4,4,5,6}"
   ]
  },
  {
   "cell_type": "code",
   "execution_count": null,
   "id": "b296d1fd-2a60-4551-884c-f915e7b4efc7",
   "metadata": {},
   "outputs": [],
   "source": [
    "A | (C-(A&B))= "
   ]
  },
  {
   "cell_type": "code",
   "execution_count": null,
   "id": "82c10dc0-2fee-4a7b-a5af-311a72f9da5a",
   "metadata": {},
   "outputs": [],
   "source": []
  }
 ],
 "metadata": {
  "kernelspec": {
   "display_name": "Python 3",
   "language": "python",
   "name": "python3"
  },
  "language_info": {
   "codemirror_mode": {
    "name": "ipython",
    "version": 3
   },
   "file_extension": ".py",
   "mimetype": "text/x-python",
   "name": "python",
   "nbconvert_exporter": "python",
   "pygments_lexer": "ipython3",
   "version": "3.10.4 (tags/v3.10.4:9d38120, Mar 23 2022, 23:13:41) [MSC v.1929 64 bit (AMD64)]"
  },
  "vscode": {
   "interpreter": {
    "hash": "99f98b4dc55239bdb2ec6846f56868b6ba29009c924e09af0403ac75e376d43e"
   }
  }
 },
 "nbformat": 4,
 "nbformat_minor": 5
}
