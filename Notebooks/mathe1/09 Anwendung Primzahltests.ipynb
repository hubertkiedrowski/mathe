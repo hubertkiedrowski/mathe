{
 "cells": [
  {
   "cell_type": "code",
   "execution_count": null,
   "id": "c98f9e56-94b0-443c-8689-5a42aa2f7438",
   "metadata": {},
   "outputs": [],
   "source": [
    "from sympy import gcdex,isprime,gcd,primepi,prime,mod_inverse\n",
    "from math import log,ceil\n",
    "from random import randrange\n",
    "from sympy.ntheory.modular import crt\n"
   ]
  }
 ],
 "metadata": {
  "kernelspec": {
   "display_name": "Python 3 (ipykernel)",
   "language": "python",
   "name": "python3"
  },
  "language_info": {
   "codemirror_mode": {
    "name": "ipython",
    "version": 3
   },
   "file_extension": ".py",
   "mimetype": "text/x-python",
   "name": "python",
   "nbconvert_exporter": "python",
   "pygments_lexer": "ipython3",
   "version": "3.9.10"
  }
 },
 "nbformat": 4,
 "nbformat_minor": 5
}
