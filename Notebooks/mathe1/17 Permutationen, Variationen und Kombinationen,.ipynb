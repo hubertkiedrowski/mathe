{
 "cells": [
  {
   "cell_type": "code",
   "execution_count": 1,
   "id": "83a19884-2389-4dbf-8e59-bd01cb61da16",
   "metadata": {},
   "outputs": [],
   "source": [
    "from sympy import gcdex,isprime,gcd,primepi,prime,mod_inverse\n",
    "from math import log,ceil\n",
    "from random import randrange\n",
    "from sympy.ntheory.modular import crt"
   ]
  },
  {
   "cell_type": "code",
   "execution_count": 2,
   "id": "73ad4488-f602-4776-b3f1-7926dc02a3ce",
   "metadata": {},
   "outputs": [],
   "source": [
    "def perms(L,K):\n",
    "    if len(L) <=1:\n",
    "        return [L]\n",
    "    return tuple ((L[i],) + P for i in range(len(L))if len(L) == K\n",
    "                        for P in perms(L[:i]+L[i+1:]))"
   ]
  },
  {
   "cell_type": "code",
   "execution_count": 3,
   "id": "47c8c0d3-88be-49e8-94f1-f2c293f36f23",
   "metadata": {},
   "outputs": [],
   "source": [
    "def perms2(L):\n",
    "    if len(L) <=1:\n",
    "        return [L]\n",
    "    return tuple ((L[i],) + P for i in range(len(L))\n",
    "                        for P in perms2(L[:i]+L[i+1:]))"
   ]
  },
  {
   "cell_type": "code",
   "execution_count": 4,
   "id": "b2eeb206-d7a6-4b04-8cb7-fdb0f62022ca",
   "metadata": {},
   "outputs": [
    {
     "data": {
      "text/plain": [
       "0"
      ]
     },
     "execution_count": 4,
     "metadata": {},
     "output_type": "execute_result"
    }
   ],
   "source": [
    "len(set(perms((1,1,2,2,3),4)))"
   ]
  },
  {
   "cell_type": "code",
   "execution_count": 5,
   "id": "20dcb30c-bf53-4cd1-8ff1-f8ab4b97702e",
   "metadata": {},
   "outputs": [
    {
     "data": {
      "text/plain": [
       "{(1, 1, 2, 2, 3),\n",
       " (1, 1, 2, 3, 2),\n",
       " (1, 1, 3, 2, 2),\n",
       " (1, 2, 1, 2, 3),\n",
       " (1, 2, 1, 3, 2),\n",
       " (1, 2, 2, 1, 3),\n",
       " (1, 2, 2, 3, 1),\n",
       " (1, 2, 3, 1, 2),\n",
       " (1, 2, 3, 2, 1),\n",
       " (1, 3, 1, 2, 2),\n",
       " (1, 3, 2, 1, 2),\n",
       " (1, 3, 2, 2, 1),\n",
       " (2, 1, 1, 2, 3),\n",
       " (2, 1, 1, 3, 2),\n",
       " (2, 1, 2, 1, 3),\n",
       " (2, 1, 2, 3, 1),\n",
       " (2, 1, 3, 1, 2),\n",
       " (2, 1, 3, 2, 1),\n",
       " (2, 2, 1, 1, 3),\n",
       " (2, 2, 1, 3, 1),\n",
       " (2, 2, 3, 1, 1),\n",
       " (2, 3, 1, 1, 2),\n",
       " (2, 3, 1, 2, 1),\n",
       " (2, 3, 2, 1, 1),\n",
       " (3, 1, 1, 2, 2),\n",
       " (3, 1, 2, 1, 2),\n",
       " (3, 1, 2, 2, 1),\n",
       " (3, 2, 1, 1, 2),\n",
       " (3, 2, 1, 2, 1),\n",
       " (3, 2, 2, 1, 1)}"
      ]
     },
     "execution_count": 5,
     "metadata": {},
     "output_type": "execute_result"
    }
   ],
   "source": [
    "set(perms2((1,1,2,2,3)))"
   ]
  },
  {
   "cell_type": "code",
   "execution_count": 43,
   "id": "ca5ce2ed-aec6-4d3d-905f-3ba737590244",
   "metadata": {},
   "outputs": [],
   "source": [
    "def fact(n):\n",
    "    if n == 1:\n",
    "        return 1\n",
    "    else:\n",
    "        return n * fact(n-1)"
   ]
  },
  {
   "cell_type": "code",
   "execution_count": 65,
   "id": "315da010-66e4-4ed0-b123-83aafa2a234e",
   "metadata": {
    "tags": []
   },
   "outputs": [
    {
     "data": {
      "text/plain": [
       "30.0"
      ]
     },
     "execution_count": 65,
     "metadata": {},
     "output_type": "execute_result"
    }
   ],
   "source": [
    "fact(5)/(fact(2)*fact(2))"
   ]
  },
  {
   "cell_type": "markdown",
   "id": "d9b7a51e-5dbf-4012-adf3-d705a3a94c6a",
   "metadata": {},
   "source": []
  },
  {
   "cell_type": "code",
   "execution_count": null,
   "id": "e44f86b8-cb4f-468a-af3f-b0cb17a1c6d2",
   "metadata": {},
   "outputs": [],
   "source": []
  }
 ],
 "metadata": {
  "kernelspec": {
   "display_name": "Python 3 (ipykernel)",
   "language": "python",
   "name": "python3"
  },
  "language_info": {
   "codemirror_mode": {
    "name": "ipython",
    "version": 3
   },
   "file_extension": ".py",
   "mimetype": "text/x-python",
   "name": "python",
   "nbconvert_exporter": "python",
   "pygments_lexer": "ipython3",
   "version": "3.9.10"
  }
 },
 "nbformat": 4,
 "nbformat_minor": 5
}
